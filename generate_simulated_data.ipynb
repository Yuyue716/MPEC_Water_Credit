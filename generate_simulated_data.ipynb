{
 "cells": [
  {
   "cell_type": "code",
   "execution_count": null,
   "id": "fcc28e4b",
   "metadata": {},
   "outputs": [],
   "source": [
    "import random\n",
    "\n",
    "N = 100  # Number of farms\n",
    "base_emission_rate = 4.5  # baseline kg N per unit of size\n",
    "policy_factor = 0.9       # 90% of full allocation\n",
    "min_prod_factor = 0.8\n",
    "k = 1\n",
    "D = 1000  # total market demand\n",
    "\n",
    "# Random seed for reproducibility\n",
    "random.seed(42)\n",
    "\n",
    "# Generate farm IDs\n",
    "farms = [f\"F{i+1}\" for i in range(N)]\n",
    "\n",
    "# Simulate parameters\n",
    "R = {f: round(random.uniform(8, 12), 2) for f in farms}\n",
    "C = {f: round(random.uniform(2.5, 4), 2) for f in farms}\n",
    "E = {f: round(random.uniform(2.5, 6), 2) for f in farms}\n",
    "Size = {f: random.randint(5, 20) for f in farms}\n",
    "Cap = {f: round(Size[f] * base_emission_rate * policy_factor, 2) for f in farms}\n",
    "\n",
    "# Write to .dat file\n",
    "with open(\"nitrogen_market_100.dat\", \"w\") as f:\n",
    "    f.write(\"set I := \" + \" \".join(farms) + \";\\n\")\n",
    "    f.write(\"set J := \" + \" \".join(farms) + \";\\n\\n\")\n",
    "\n",
    "    for param, values in [(\"R\", R), (\"C\", C), (\"E\", E), (\"Size\", Size), (\"Cap\", Cap)]:\n",
    "        f.write(f\"param {param} :=\\n\")\n",
    "        for i in farms:\n",
    "            f.write(f\"  {i} {values[i]}\\n\")\n",
    "        f.write(\";\\n\\n\")\n",
    "\n",
    "    f.write(f\"param D := {D};\\n\")\n",
    "    f.write(f\"param k := {k};\\n\")\n",
    "    f.write(f\"param min_prod_factor := {min_prod_factor};\\n\")\n"
   ]
  }
 ],
 "metadata": {
  "language_info": {
   "name": "python"
  }
 },
 "nbformat": 4,
 "nbformat_minor": 5
}
