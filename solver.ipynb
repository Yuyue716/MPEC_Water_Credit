{
 "cells": [
  {
   "cell_type": "code",
   "execution_count": 17,
   "id": "c44d7d7a",
   "metadata": {},
   "outputs": [
    {
     "name": "stdout",
     "output_type": "stream",
     "text": [
      "CONOPT 3.17A: Locally infeasible; objective 17043.10331\n",
      "48 iterations; evals: nf = 3, ng = 1, nc = 598, nJ = 94, nH = 1, nHv = 6\n",
      "Objective = total_profit\n",
      "θ (theta):\n",
      "   theta.val\n",
      "A   0.325906\n",
      "B   0.340929\n",
      "\n",
      "Trades (x[i,j]):\n",
      "                    x.val\n",
      "index0 index1            \n",
      "A      A         0.000000\n",
      "       B       393.301994\n",
      "B      A         0.000000\n",
      "       B         0.000000\n",
      "\n",
      "λ (lambda):\n",
      "   lambda.val\n",
      "A    0.008204\n",
      "B    0.008204\n",
      "\n",
      "μ (mu):\n",
      "   mu.val\n",
      "A       0\n",
      "B       0\n",
      "\n",
      "γ (gamma):\n",
      "   gamma.val\n",
      "A          0\n",
      "B          0\n",
      "\n",
      "Market Price (P_N): 0.008204081098417968\n",
      "        q.val\n",
      "A  120.989502\n",
      "B  138.520037\n"
     ]
    }
   ],
   "source": [
    "from amplpy import AMPL, Environment\n",
    "\n",
    "# Set up AMPL environment\n",
    "ampl = AMPL(Environment()) \n",
    "\n",
    "# Load model and data\n",
    "ampl.read(\"kkt_equilibrium_model.mod\")\n",
    "ampl.readData(\"kkt_equilibrium_model.dat\")\n",
    "\n",
    "# Choose a solver \n",
    "ampl.setOption(\"solver\", \"conopt\")  \n",
    "\n",
    "# Solve the model\n",
    "ampl.solve()\n",
    "\n",
    "# Display results\n",
    "theta = ampl.getVariable(\"theta\").getValues().toPandas()\n",
    "x = ampl.getVariable(\"x\").getValues().toPandas()\n",
    "lambda_ = ampl.getVariable(\"lambda\").getValues().toPandas()\n",
    "mu = ampl.getVariable(\"mu\").getValues().toPandas()\n",
    "gamma = ampl.getVariable(\"gamma\").getValues().toPandas()\n",
    "PN = ampl.getVariable(\"PN\").value()\n",
    "q = ampl.getVariable(\"q\").getValues().toPandas()\n",
    "\n",
    "print(\"θ (theta):\")\n",
    "print(theta)\n",
    "print(\"\\nTrades (x[i,j]):\")\n",
    "print(x)\n",
    "print(\"\\nλ (lambda):\")\n",
    "print(lambda_)\n",
    "print(\"\\nμ (mu):\")\n",
    "print(mu)\n",
    "print(\"\\nγ (gamma):\")\n",
    "print(gamma)\n",
    "print(f\"\\nMarket Price (P_N): {PN}\")\n",
    "print(q)"
   ]
  }
 ],
 "metadata": {
  "kernelspec": {
   "display_name": "Python 3",
   "language": "python",
   "name": "python3"
  },
  "language_info": {
   "codemirror_mode": {
    "name": "ipython",
    "version": 3
   },
   "file_extension": ".py",
   "mimetype": "text/x-python",
   "name": "python",
   "nbconvert_exporter": "python",
   "pygments_lexer": "ipython3",
   "version": "3.12.0"
  }
 },
 "nbformat": 4,
 "nbformat_minor": 5
}
